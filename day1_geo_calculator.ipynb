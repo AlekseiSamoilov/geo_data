{
 "cells": [
  {
   "cell_type": "code",
   "execution_count": 2,
   "id": "07094610",
   "metadata": {},
   "outputs": [
    {
     "name": "stdout",
     "output_type": "stream",
     "text": [
      "🌍 База данных городов создана!\n",
      "Всего городов: 6\n",
      "Moscow: 55.76°, 37.62°, (Russia)\n",
      "Tokyo: 35.68°, 139.65°, (Japan)\n",
      "New York: 40.71°, -74.01°, (USA)\n",
      "Sydney: -33.87°, 151.21°, (Australia)\n",
      "London: 51.51°, -0.13°, (UK)\n",
      "Cairo: 30.04°, 31.24°, (Egypt)\n"
     ]
    }
   ],
   "source": [
    "import math\n",
    "import matplotlib.pyplot as plt\n",
    "\n",
    "world_cities = {\n",
    "    \"Moscow\": { \"lat\": 55.7558, \"lon\": 37.6176, \"country\": \"Russia\"},\n",
    "    \"Tokyo\": { \"lat\": 35.6762, \"lon\": 139.6503, \"country\": \"Japan\"},\n",
    "    \"New York\": { \"lat\": 40.7128, \"lon\": -74.0060, \"country\": \"USA\"},\n",
    "    \"Sydney\": { \"lat\": -33.8688, \"lon\": 151.2093, \"country\": 'Australia'},\n",
    "    \"London\": { \"lat\": 51.5074, \"lon\": -0.1278, \"country\": \"UK\"},\n",
    "    \"Cairo\": { \"lat\": 30.0444, \"lon\": 31.2357, \"country\": \"Egypt\"}\n",
    "}\n",
    "\n",
    "print(\"🌍 База данных городов создана!\")\n",
    "\n",
    "print(f\"Всего городов: {len(world_cities)}\")\n",
    "\n",
    "for city, info in world_cities.items():\n",
    "    print(f\"{city}: {info['lat']:.2f}°, {info['lon']:.2f}°, ({info['country']})\")"
   ]
  },
  {
   "cell_type": "code",
   "execution_count": 5,
   "id": "0ddd85fb",
   "metadata": {},
   "outputs": [
    {
     "name": "stdout",
     "output_type": "stream",
     "text": [
      "\n",
      " Анализ для города Moscow:\n",
      " Координаты: 55.76°, 37.62°\n",
      " Полушарие: Северное полушарие, и Восточное полушарие\n",
      " Климатический пояс: Умеренный\n",
      " Расстояние до экватора:6189 км\n",
      "\n",
      " Анализ для города Tokyo:\n",
      " Координаты: 35.68°, 139.65°\n",
      " Полушарие: Северное полушарие, и Восточное полушарие\n",
      " Климатический пояс: Субтропический\n",
      " Расстояние до экватора:3960 км\n",
      "\n",
      " Анализ для города New York:\n",
      " Координаты: 40.71°, -74.01°\n",
      " Полушарие: Северное полушарие, и Западное полушарие\n",
      " Климатический пояс: Умеренный\n",
      " Расстояние до экватора:4519 км\n",
      "\n",
      " Анализ для города Sydney:\n",
      " Координаты: -33.87°, 151.21°\n",
      " Полушарие: Южное полушарие, и Восточное полушарие\n",
      " Климатический пояс: Субтропический\n",
      " Расстояние до экватора:3759 км\n",
      "\n",
      " Анализ для города London:\n",
      " Координаты: 51.51°, -0.13°\n",
      " Полушарие: Северное полушарие, и Западное полушарие\n",
      " Климатический пояс: Умеренный\n",
      " Расстояние до экватора:5717 км\n",
      "\n",
      " Анализ для города Cairo:\n",
      " Координаты: 30.04°, 31.24°\n",
      " Полушарие: Северное полушарие, и Восточное полушарие\n",
      " Климатический пояс: Субтропический\n",
      " Расстояние до экватора:3335 км\n"
     ]
    }
   ],
   "source": [
    "def analyze_location(lat, lon, city_name=\"Точка\"): \n",
    "    if lat >= 0: \n",
    "        lat_hemisphere = 'Северное полушарие'\n",
    "    else: \n",
    "        lat_hemisphere = 'Южное полушарие'\n",
    "\n",
    "    lon_hemisphere = \"Восточное полушарие\" if lon >=0 else \"Западное полушарие\"\n",
    "\n",
    "    abs_lat = abs(lat)\n",
    "\n",
    "    if abs_lat >=66.5: \n",
    "        climate = \"Полярный (за полярным кругом)\"\n",
    "    elif abs_lat >=40: \n",
    "        climate = \"Умеренный\"\n",
    "    elif abs_lat >=23.5:\n",
    "        climate = \"Субтропический\"\n",
    "    else: \n",
    "        climate = \"Тропический\"\n",
    "\n",
    "    equator_distance = abs(lat) * 111\n",
    "\n",
    "    print(f\"\\n Анализ для города {city_name}:\")\n",
    "    print(f\" Координаты: {lat:.2f}°, {lon:.2f}°\")\n",
    "    print(f\" Полушарие: {lat_hemisphere}, и {lon_hemisphere}\")\n",
    "    print(f\" Климатический пояс: {climate}\")\n",
    "    print(f\" Расстояние до экватора:{equator_distance:.0f} км\")\n",
    "\n",
    "    return { \n",
    "        \"hemisphere\": (lat_hemisphere, lon_hemisphere),\n",
    "        \"climate\": climate,\n",
    "        \"equator_distance\": equator_distance\n",
    "    }\n",
    "\n",
    "for city, coords in world_cities.items():\n",
    "    analyze_location(coords[\"lat\"], coords[\"lon\"], city)\n",
    "\n",
    "\n"
   ]
  }
 ],
 "metadata": {
  "kernelspec": {
   "display_name": "base",
   "language": "python",
   "name": "python3"
  },
  "language_info": {
   "codemirror_mode": {
    "name": "ipython",
    "version": 3
   },
   "file_extension": ".py",
   "mimetype": "text/x-python",
   "name": "python",
   "nbconvert_exporter": "python",
   "pygments_lexer": "ipython3",
   "version": "3.12.7"
  }
 },
 "nbformat": 4,
 "nbformat_minor": 5
}
