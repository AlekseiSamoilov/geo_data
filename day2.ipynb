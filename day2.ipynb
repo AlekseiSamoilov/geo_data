{
 "cells": [
  {
   "cell_type": "code",
   "execution_count": 20,
   "id": "90c0cb2f",
   "metadata": {},
   "outputs": [
    {
     "name": "stdout",
     "output_type": "stream",
     "text": [
      "Широта: 55.7558 -тип: <class 'float'>\n",
      "Долгота: 37.6176 -тип: <class 'float'>\n",
      "Город: Moscow -тип: <class 'str'>\n",
      "Столица? True -тип: <class 'bool'>\n",
      "Hаселение: 125000000 -тип: <class 'int'>\n"
     ]
    }
   ],
   "source": [
    "latitude = 55.7558\n",
    "longtitude = 37.6176\n",
    "city_name = \"Moscow\"\n",
    "is_capital = True\n",
    "population = 125000000\n",
    "\n",
    "print(\"Широта:\", latitude, \"-тип:\", type(latitude))\n",
    "print(\"Долгота:\", longtitude, \"-тип:\", type(longtitude))\n",
    "print(\"Город:\", city_name, \"-тип:\", type(city_name))\n",
    "print(\"Столица?\", is_capital, \"-тип:\", type(is_capital))\n",
    "print(\"Hаселение:\", population, \"-тип:\", type(population))\n",
    "\n"
   ]
  },
  {
   "cell_type": "code",
   "execution_count": 21,
   "id": "a051f910",
   "metadata": {},
   "outputs": [
    {
     "name": "stdout",
     "output_type": "stream",
     "text": [
      "Координаты Москвы: [55.7558, 37.6176]\n",
      "Широта Москвы: 55.7558\n",
      "Долгота Москвы: 37.6176\n"
     ]
    }
   ],
   "source": [
    "moscow_coords = [55.7558, 37.6176]\n",
    "london_coords = [51.5074, -0.1278]\n",
    "paris_coords = [48.8566, 2.3522]\n",
    "\n",
    "print(\"Координаты Москвы:\", moscow_coords)\n",
    "print(\"Широта Москвы:\", moscow_coords[0])\n",
    "print(\"Долгота Москвы:\", moscow_coords[1])"
   ]
  },
  {
   "cell_type": "code",
   "execution_count": 23,
   "id": "5032520c",
   "metadata": {},
   "outputs": [
    {
     "name": "stdout",
     "output_type": "stream",
     "text": [
      "Список городов: ['Москва', 'Лондон', 'Париж', 'Берлин', 'Токио']\n",
      "Первый город в списке: Париж\n",
      "Последний город в списке: Токио\n"
     ]
    }
   ],
   "source": [
    "cities_names = [\"Москва\", \"Лондон\", \"Париж\", \"Берлин\", \"Токио\"]\n",
    "print(\"Список городов:\", cities_names)\n",
    "print(\"Первый город в списке:\", cities_names[2])\n",
    "print(\"Последний город в списке:\", cities_names[-1])"
   ]
  },
  {
   "cell_type": "code",
   "execution_count": 24,
   "id": "5d2c1032",
   "metadata": {},
   "outputs": [
    {
     "name": "stdout",
     "output_type": "stream",
     "text": [
      "Все координаты: [[55.7558, 37.6176], [51.5074, -0.1278], [48.8566, 2.3522], [52.52, 13.405]]\n",
      "Координаты Лондона: [51.5074, -0.1278]\n",
      "Координаты Парижа: [48.8566, 2.3522]\n"
     ]
    }
   ],
   "source": [
    "all_coordinates = [\n",
    "    [55.7558, 37.6176],\n",
    "    [51.5074, -0.1278],\n",
    "    [48.8566, 2.3522],\n",
    "    [52.5200, 13.4050]\n",
    "]\n",
    "\n",
    "print(\"Все координаты:\" ,all_coordinates)\n",
    "print(\"Координаты Лондона:\", all_coordinates[1])\n",
    "print(\"Координаты Парижа:\", all_coordinates[2])"
   ]
  }
 ],
 "metadata": {
  "kernelspec": {
   "display_name": "base",
   "language": "python",
   "name": "python3"
  },
  "language_info": {
   "codemirror_mode": {
    "name": "ipython",
    "version": 3
   },
   "file_extension": ".py",
   "mimetype": "text/x-python",
   "name": "python",
   "nbconvert_exporter": "python",
   "pygments_lexer": "ipython3",
   "version": "3.12.7"
  }
 },
 "nbformat": 4,
 "nbformat_minor": 5
}
