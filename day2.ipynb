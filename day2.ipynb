{
 "cells": [
  {
   "cell_type": "code",
   "execution_count": 38,
   "id": "90c0cb2f",
   "metadata": {},
   "outputs": [
    {
     "name": "stdout",
     "output_type": "stream",
     "text": [
      "Широта: 55.7558 -тип: <class 'float'>\n",
      "Долгота: 37.6176 -тип: <class 'float'>\n",
      "Город: Moscow -тип: <class 'str'>\n",
      "Столица? True -тип: <class 'bool'>\n",
      "Hаселение: 125000000 -тип: <class 'int'>\n"
     ]
    }
   ],
   "source": [
    "latitude = 55.7558\n",
    "longtitude = 37.6176\n",
    "city_name = \"Moscow\"\n",
    "is_capital = True\n",
    "population = 125000000\n",
    "\n",
    "print(\"Широта:\", latitude, \"-тип:\", type(latitude))\n",
    "print(\"Долгота:\", longtitude, \"-тип:\", type(longtitude))\n",
    "print(\"Город:\", city_name, \"-тип:\", type(city_name))\n",
    "print(\"Столица?\", is_capital, \"-тип:\", type(is_capital))\n",
    "print(\"Hаселение:\", population, \"-тип:\", type(population))\n",
    "\n"
   ]
  },
  {
   "cell_type": "code",
   "execution_count": 39,
   "id": "a051f910",
   "metadata": {},
   "outputs": [
    {
     "name": "stdout",
     "output_type": "stream",
     "text": [
      "Координаты Москвы: [55.7558, 37.6176]\n",
      "Широта Москвы: 55.7558\n",
      "Долгота Москвы: 37.6176\n"
     ]
    }
   ],
   "source": [
    "moscow_coords = [55.7558, 37.6176]\n",
    "london_coords = [51.5074, -0.1278]\n",
    "paris_coords = [48.8566, 2.3522]\n",
    "\n",
    "print(\"Координаты Москвы:\", moscow_coords)\n",
    "print(\"Широта Москвы:\", moscow_coords[0])\n",
    "print(\"Долгота Москвы:\", moscow_coords[1])"
   ]
  },
  {
   "cell_type": "code",
   "execution_count": 40,
   "id": "5032520c",
   "metadata": {},
   "outputs": [
    {
     "name": "stdout",
     "output_type": "stream",
     "text": [
      "Список городов: ['Москва', 'Лондон', 'Париж', 'Берлин', 'Токио']\n",
      "Первый город в списке: Париж\n",
      "Последний город в списке: Токио\n"
     ]
    }
   ],
   "source": [
    "cities_names = [\"Москва\", \"Лондон\", \"Париж\", \"Берлин\", \"Токио\"]\n",
    "print(\"Список городов:\", cities_names)\n",
    "print(\"Первый город в списке:\", cities_names[2])\n",
    "print(\"Последний город в списке:\", cities_names[-1])"
   ]
  },
  {
   "cell_type": "code",
   "execution_count": 41,
   "id": "5d2c1032",
   "metadata": {},
   "outputs": [
    {
     "name": "stdout",
     "output_type": "stream",
     "text": [
      "Все координаты: [[55.7558, 37.6176], [51.5074, -0.1278], [48.8566, 2.3522], [52.52, 13.405]]\n",
      "Координаты Лондона: [51.5074, -0.1278]\n",
      "Координаты Парижа: [48.8566, 2.3522]\n"
     ]
    }
   ],
   "source": [
    "all_coordinates = [\n",
    "    [55.7558, 37.6176],\n",
    "    [51.5074, -0.1278],\n",
    "    [48.8566, 2.3522],\n",
    "    [52.5200, 13.4050]\n",
    "]\n",
    "\n",
    "print(\"Все координаты:\" ,all_coordinates)\n",
    "print(\"Координаты Лондона:\", all_coordinates[1])\n",
    "print(\"Координаты Парижа:\", all_coordinates[2])"
   ]
  },
  {
   "cell_type": "code",
   "execution_count": 42,
   "id": "ddf3b138",
   "metadata": {},
   "outputs": [
    {
     "name": "stdout",
     "output_type": "stream",
     "text": [
      "Город: Moscow\n",
      "Страна: Russia\n",
      "Координаты: 55.7558 37.6176\n",
      "Население: 12500000\n",
      "Новое население: 12600000\n",
      "Площадь Москвы: 2511 км2\n"
     ]
    }
   ],
   "source": [
    "moscow_info = {\n",
    "    \"name\": \"Moscow\",\n",
    "    \"latitude\": 55.7558,\n",
    "    \"longtitude\": 37.6176,\n",
    "    \"country\": \"Russia\",\n",
    "    \"population\": 12500000,\n",
    "    \"is_capital\": True,\n",
    "    \"timezone\": \"UTC+3\"\n",
    "    }\n",
    "\n",
    "# Доступ к данным по ключам\n",
    "\n",
    "print(\"Город:\", moscow_info[\"name\"])\n",
    "print(\"Страна:\", moscow_info[\"country\"])\n",
    "print(\"Координаты:\", moscow_info[\"latitude\"], moscow_info[\"longtitude\"])\n",
    "print(\"Население:\", moscow_info[\"population\"])\n",
    "\n",
    "moscow_info[\"population\"] = 12600000\n",
    "print(\"Новое население:\", moscow_info[\"population\"])\n",
    "\n",
    "moscow_info[\"area\"] = 2511\n",
    "print(\"Площадь Москвы:\", moscow_info[\"area\"], \"км2\")\n",
    "\n",
    "\n",
    "\n",
    "\n",
    "\n"
   ]
  },
  {
   "cell_type": "code",
   "execution_count": 43,
   "id": "2ded8666",
   "metadata": {},
   "outputs": [
    {
     "name": "stdout",
     "output_type": "stream",
     "text": [
      "Первый город: Moscow\n",
      "Страна Токио: Japan\n",
      "Moscow, Russia - население: 12500000\n",
      "London, UK - население: 9000000\n",
      "Tokyo, Japan - население: 14000000\n"
     ]
    }
   ],
   "source": [
    "# Список словарей \n",
    "cities_database = [\n",
    "    {\n",
    "        \"name\": \"Moscow\",\n",
    "        \"latitude\": 55.7558,\n",
    "        \"longitude\": 37.6176,\n",
    "        \"country\": \"Russia\",\n",
    "        \"population\": 12500000\n",
    "    },\n",
    "    {\n",
    "        \"name\": \"London\", \n",
    "        \"latitude\": 51.5074,\n",
    "        \"longitude\": -0.1278,\n",
    "        \"country\": \"UK\",\n",
    "        \"population\": 9000000\n",
    "    },\n",
    "    {\n",
    "        \"name\": \"Tokyo\",\n",
    "        \"latitude\": 35.6762,\n",
    "        \"longitude\": 139.6503,\n",
    "        \"country\": \"Japan\",\n",
    "        \"population\": 14000000\n",
    "    }\n",
    "]\n",
    "\n",
    "# Обращение к данным в списке словарей\n",
    "print(\"Первый город:\", cities_database[0][\"name\"])\n",
    "print(\"Страна Токио:\", cities_database[2][\"country\"])\n",
    "\n",
    "# Перебор всех городов в базе данных\n",
    "for city in cities_database:\n",
    "    print(f\"{city['name']}, {city['country']} - население: {city['population']}\")"
   ]
  },
  {
   "cell_type": "code",
   "execution_count": 45,
   "id": "17090b6f",
   "metadata": {},
   "outputs": [
    {
     "name": "stdout",
     "output_type": "stream",
     "text": [
      "===Анализ полушарий===\n",
      "Точка 1: [55.7558, 37.6176 - Северное полушарие и Восточное полушарие]\n",
      "Точка 2: [51.5074, -0.1278 - Северное полушарие и Западное полушарие]\n",
      "Точка 3: [-33.8688, 151.2093 - Южное полушарие и Восточное полушарие]\n",
      "Точка 4: [40.7128, -74.006 - Северное полушарие и Западное полушарие]\n"
     ]
    }
   ],
   "source": [
    "# Циклы для обработки геоданных\n",
    "\n",
    "# Обработка координат с циклами \n",
    "\n",
    "coordinates_list = [\n",
    "    [55.7558, 37.6176],   # Москва\n",
    "    [51.5074, -0.1278],   # Лондон  \n",
    "    [-33.8688, 151.2093], # Сидней (Южное полушарие!)\n",
    "    [40.7128, -74.0060]   # Нью-Йорк\n",
    "]\n",
    "\n",
    "print(\"===Анализ полушарий===\")\n",
    "for i, coords in enumerate(coordinates_list): \n",
    "    lat, lon = coords #распакока координат \n",
    "    # Определяем полушарие по широте\n",
    "    if lat > 0:\n",
    "        hemisphere_ns = \"Северное полушарие\"\n",
    "    else: \n",
    "        hemisphere_ns = \"Южное полушарие\"\n",
    "\n",
    "    # Определяем полушарие по долготе\n",
    "    if lon > 0:\n",
    "        hemisphere_ew = \"Восточное\"\n",
    "    else:\n",
    "        hemisphere_ew = \"Западное\"\n",
    "\n",
    "    print(f\"Точка {i+1}: [{lat}, {lon} - {hemisphere_ns} и {hemisphere_ew} полушарие]\")"
   ]
  },
  {
   "cell_type": "code",
   "execution_count": null,
   "id": "d9825e83",
   "metadata": {},
   "outputs": [],
   "source": []
  }
 ],
 "metadata": {
  "kernelspec": {
   "display_name": "base",
   "language": "python",
   "name": "python3"
  },
  "language_info": {
   "codemirror_mode": {
    "name": "ipython",
    "version": 3
   },
   "file_extension": ".py",
   "mimetype": "text/x-python",
   "name": "python",
   "nbconvert_exporter": "python",
   "pygments_lexer": "ipython3",
   "version": "3.12.7"
  }
 },
 "nbformat": 4,
 "nbformat_minor": 5
}
